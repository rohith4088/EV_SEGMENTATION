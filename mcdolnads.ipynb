{
 "cells": [
  {
   "cell_type": "code",
   "execution_count": 1,
   "metadata": {},
   "outputs": [],
   "source": [
    "#importing necessary modules\n",
    "import pandas as pd\n",
    "import seaborn as sns\n",
    "import matplotlib.pyplot as plt\n",
    "import numpy as np\n",
    "%matplotlib inline \n",
    "#% is the magic command this helps in ipython visualization"
   ]
  },
  {
   "cell_type": "code",
   "execution_count": 2,
   "metadata": {},
   "outputs": [
    {
     "name": "stdout",
     "output_type": "stream",
     "text": [
      "Collecting bioinfokit\n",
      "  Downloading bioinfokit-2.1.3.tar.gz (87 kB)\n",
      "\u001b[2K     \u001b[90m━━━━━━━━━━━━━━━━━━━━━━━━━━━━━━━━━━━━━━━━\u001b[0m \u001b[32m87.7/87.7 kB\u001b[0m \u001b[31m1.3 MB/s\u001b[0m eta \u001b[36m0:00:00\u001b[0ma \u001b[36m0:00:01\u001b[0m\n",
      "\u001b[?25h  Preparing metadata (setup.py) ... \u001b[?25ldone\n",
      "\u001b[?25hRequirement already satisfied: pandas in /Users/rohithr/tensorflow-test/env/lib/python3.8/site-packages (from bioinfokit) (2.0.3)\n",
      "Requirement already satisfied: numpy in /Users/rohithr/tensorflow-test/env/lib/python3.8/site-packages (from bioinfokit) (1.23.2)\n",
      "Requirement already satisfied: matplotlib in /Users/rohithr/tensorflow-test/env/lib/python3.8/site-packages (from bioinfokit) (3.7.2)\n",
      "Requirement already satisfied: scipy in /Users/rohithr/tensorflow-test/env/lib/python3.8/site-packages (from bioinfokit) (1.10.1)\n",
      "Requirement already satisfied: scikit-learn in /Users/rohithr/tensorflow-test/env/lib/python3.8/site-packages (from bioinfokit) (1.2.2)\n",
      "Requirement already satisfied: seaborn in /Users/rohithr/tensorflow-test/env/lib/python3.8/site-packages (from bioinfokit) (0.12.2)\n",
      "Collecting matplotlib-venn (from bioinfokit)\n",
      "  Downloading matplotlib-venn-0.11.9.tar.gz (30 kB)\n",
      "  Installing build dependencies ... \u001b[?25ldone\n",
      "\u001b[?25h  Getting requirements to build wheel ... \u001b[?25ldone\n",
      "\u001b[?25h  Installing backend dependencies ... \u001b[?25ldone\n",
      "\u001b[?25h  Preparing metadata (pyproject.toml) ... \u001b[?25ldone\n",
      "\u001b[?25hCollecting tabulate (from bioinfokit)\n",
      "  Using cached tabulate-0.9.0-py3-none-any.whl (35 kB)\n",
      "Collecting statsmodels (from bioinfokit)\n",
      "  Downloading statsmodels-0.14.0-cp38-cp38-macosx_11_0_arm64.whl (9.3 MB)\n",
      "\u001b[2K     \u001b[90m━━━━━━━━━━━━━━━━━━━━━━━━━━━━━━━━━━━━━━━━\u001b[0m \u001b[32m9.3/9.3 MB\u001b[0m \u001b[31m7.2 MB/s\u001b[0m eta \u001b[36m0:00:00\u001b[0m00:01\u001b[0m00:01\u001b[0m\n",
      "\u001b[?25hCollecting textwrap3 (from bioinfokit)\n",
      "  Downloading textwrap3-0.9.2-py2.py3-none-any.whl (12 kB)\n",
      "Collecting adjustText (from bioinfokit)\n",
      "  Downloading adjustText-0.8-py3-none-any.whl (9.1 kB)\n",
      "Requirement already satisfied: contourpy>=1.0.1 in /Users/rohithr/tensorflow-test/env/lib/python3.8/site-packages (from matplotlib->bioinfokit) (1.1.0)\n",
      "Requirement already satisfied: cycler>=0.10 in /Users/rohithr/tensorflow-test/env/lib/python3.8/site-packages (from matplotlib->bioinfokit) (0.11.0)\n",
      "Requirement already satisfied: fonttools>=4.22.0 in /Users/rohithr/tensorflow-test/env/lib/python3.8/site-packages (from matplotlib->bioinfokit) (4.42.1)\n",
      "Requirement already satisfied: kiwisolver>=1.0.1 in /Users/rohithr/tensorflow-test/env/lib/python3.8/site-packages (from matplotlib->bioinfokit) (1.4.5)\n",
      "Requirement already satisfied: packaging>=20.0 in /Users/rohithr/tensorflow-test/env/lib/python3.8/site-packages (from matplotlib->bioinfokit) (23.1)\n",
      "Requirement already satisfied: pillow>=6.2.0 in /Users/rohithr/tensorflow-test/env/lib/python3.8/site-packages (from matplotlib->bioinfokit) (10.0.0)\n",
      "Requirement already satisfied: pyparsing<3.1,>=2.3.1 in /Users/rohithr/tensorflow-test/env/lib/python3.8/site-packages (from matplotlib->bioinfokit) (3.0.9)\n",
      "Requirement already satisfied: python-dateutil>=2.7 in /Users/rohithr/tensorflow-test/env/lib/python3.8/site-packages (from matplotlib->bioinfokit) (2.8.2)\n",
      "Requirement already satisfied: importlib-resources>=3.2.0 in /Users/rohithr/tensorflow-test/env/lib/python3.8/site-packages (from matplotlib->bioinfokit) (6.0.1)\n",
      "Requirement already satisfied: pytz>=2020.1 in /Users/rohithr/tensorflow-test/env/lib/python3.8/site-packages (from pandas->bioinfokit) (2023.3)\n",
      "Requirement already satisfied: tzdata>=2022.1 in /Users/rohithr/tensorflow-test/env/lib/python3.8/site-packages (from pandas->bioinfokit) (2023.3)\n",
      "Requirement already satisfied: joblib>=1.1.1 in /Users/rohithr/tensorflow-test/env/lib/python3.8/site-packages (from scikit-learn->bioinfokit) (1.3.2)\n",
      "Requirement already satisfied: threadpoolctl>=2.0.0 in /Users/rohithr/tensorflow-test/env/lib/python3.8/site-packages (from scikit-learn->bioinfokit) (3.2.0)\n",
      "Collecting patsy>=0.5.2 (from statsmodels->bioinfokit)\n",
      "  Downloading patsy-0.5.3-py2.py3-none-any.whl (233 kB)\n",
      "\u001b[2K     \u001b[90m━━━━━━━━━━━━━━━━━━━━━━━━━━━━━━━━━━━━━━━\u001b[0m \u001b[32m233.8/233.8 kB\u001b[0m \u001b[31m9.4 MB/s\u001b[0m eta \u001b[36m0:00:00\u001b[0m\n",
      "\u001b[?25hRequirement already satisfied: zipp>=3.1.0 in /Users/rohithr/tensorflow-test/env/lib/python3.8/site-packages (from importlib-resources>=3.2.0->matplotlib->bioinfokit) (3.16.2)\n",
      "Requirement already satisfied: six in /Users/rohithr/tensorflow-test/env/lib/python3.8/site-packages (from patsy>=0.5.2->statsmodels->bioinfokit) (1.16.0)\n",
      "Building wheels for collected packages: bioinfokit, matplotlib-venn\n",
      "  Building wheel for bioinfokit (setup.py) ... \u001b[?25ldone\n",
      "\u001b[?25h  Created wheel for bioinfokit: filename=bioinfokit-2.1.3-py3-none-any.whl size=59055 sha256=3e30ea8b90fca4bc500383dc2f2dea9865e4f41c8a714e6cbfdf1c147fec771e\n",
      "  Stored in directory: /Users/rohithr/Library/Caches/pip/wheels/f8/3c/c4/8001ed1e5bdae2cb22e6ddb075e49e9775d2f69d6e7a8e8158\n",
      "  Building wheel for matplotlib-venn (pyproject.toml) ... \u001b[?25ldone\n",
      "\u001b[?25h  Created wheel for matplotlib-venn: filename=matplotlib_venn-0.11.9-py3-none-any.whl size=32999 sha256=cd7ec0d17012c6cbf91203937760d2ab783ab6e94adec0aa0497993c8fe655f7\n",
      "  Stored in directory: /Users/rohithr/Library/Caches/pip/wheels/04/31/9b/736820c977113de7c1aad3b8a7e92fa151ef6827256e9886e3\n",
      "Successfully built bioinfokit matplotlib-venn\n",
      "Installing collected packages: textwrap3, tabulate, patsy, statsmodels, matplotlib-venn, adjustText, bioinfokit\n",
      "Successfully installed adjustText-0.8 bioinfokit-2.1.3 matplotlib-venn-0.11.9 patsy-0.5.3 statsmodels-0.14.0 tabulate-0.9.0 textwrap3-0.9.2\n",
      "Note: you may need to restart the kernel to use updated packages.\n"
     ]
    }
   ],
   "source": [
    "pip install bioinfokit"
   ]
  },
  {
   "cell_type": "code",
   "execution_count": null,
   "metadata": {},
   "outputs": [],
   "source": []
  }
 ],
 "metadata": {
  "kernelspec": {
   "display_name": "Python 3",
   "language": "python",
   "name": "python3"
  },
  "language_info": {
   "codemirror_mode": {
    "name": "ipython",
    "version": 3
   },
   "file_extension": ".py",
   "mimetype": "text/x-python",
   "name": "python",
   "nbconvert_exporter": "python",
   "pygments_lexer": "ipython3",
   "version": "3.8.17"
  },
  "orig_nbformat": 4
 },
 "nbformat": 4,
 "nbformat_minor": 2
}
